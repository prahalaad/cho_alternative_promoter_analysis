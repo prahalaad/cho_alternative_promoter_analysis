{
 "cells": [
  {
   "cell_type": "code",
   "execution_count": null,
   "id": "3a0f2f81",
   "metadata": {},
   "outputs": [],
   "source": [
    "import numpy as np\n",
    "import pandas as pd\n",
    "import matplotlib.pyplot as plt\n",
    "import seaborn as sns"
   ]
  },
  {
   "cell_type": "code",
   "execution_count": null,
   "id": "64eb1480",
   "metadata": {},
   "outputs": [],
   "source": [
    "df = pd.read_csv('merged_promoter_activity_final.csv')\n",
    "print(len(df))\n",
    "df.head()"
   ]
  },
  {
   "cell_type": "markdown",
   "id": "eb726a18",
   "metadata": {},
   "source": [
    "#### Function to Calculate Promoter Variance"
   ]
  },
  {
   "cell_type": "code",
   "execution_count": null,
   "id": "861d9772",
   "metadata": {},
   "outputs": [],
   "source": [
    "def calculate_promoter_variance(row, name):\n",
    "    # Filter columns matching the provided name (e.g., '.counts')\n",
    "    values = row.filter(like=name).values\n",
    "    \n",
    "    # Check if there are enough values to calculate variance\n",
    "    if len(values) > 1:\n",
    "        return np.var(values, ddof=1)  # Variance calculation with degrees of freedom = 1\n",
    "    else:\n",
    "        return np.nan  # Return NaN if variance cannot be computed"
   ]
  },
  {
   "cell_type": "markdown",
   "id": "9dbca71c",
   "metadata": {},
   "source": [
    "### Sequencing Depth Normalization and Log2 Transformtaion\n",
    "Size Factor calculation for each sample"
   ]
  },
  {
   "cell_type": "code",
   "execution_count": null,
   "id": "c00032f2",
   "metadata": {},
   "outputs": [],
   "source": [
    "# Step 1: Identify columns that end with '.counts'\n",
    "counts_columns = [col for col in df.columns if col.endswith('.counts')]\n",
    "\n",
    "# Step 2: Calculate size factor for each counts column\n",
    "size_factors = {col: df[col].sum() / 10**6 for col in counts_columns}"
   ]
  },
  {
   "cell_type": "code",
   "execution_count": null,
   "id": "e76ef89b",
   "metadata": {},
   "outputs": [],
   "source": [
    "def preprocessing(df, size_factors):\n",
    "    df = df.copy()\n",
    "\n",
    "    # Step 1: Create lognorm columns and store their target positions\n",
    "    counts_columns = df.filter(like='.counts').columns\n",
    "    sample_names = [col.split(\".\")[0] for col in counts_columns]\n",
    "\n",
    "    for col in counts_columns:\n",
    "        sample_name = col.split(\".\")[0]\n",
    "\n",
    "        # Compute CPM and log-normalized values\n",
    "        norm_counts_col = f\"{sample_name}.norm_counts\"\n",
    "        lognorm_col = f\"{sample_name}.lognorm\"\n",
    "        df[norm_counts_col] = df[col] / size_factors[col]\n",
    "        df[lognorm_col] = np.log2(df[norm_counts_col] + 1)\n",
    "\n",
    "    # Step 2: Compute gene-level sums and relative activity\n",
    "    for sample_name in sample_names:\n",
    "        lognorm_col = f\"{sample_name}.lognorm\"\n",
    "        gene_col = f\"{sample_name}.gene\"\n",
    "        rel_col = f\"{sample_name}.rel\"\n",
    "\n",
    "        gene_sum = df.groupby('geneId')[lognorm_col].transform('sum')\n",
    "        df[gene_col] = gene_sum\n",
    "        df[rel_col] = df[lognorm_col] / df[gene_col]\n",
    "\n",
    "    # Step 3: Reorder columns\n",
    "    first_9_columns = list(df.columns[:9])\n",
    "    sample_columns = []\n",
    "\n",
    "    for sample_name in sample_names:\n",
    "        sample_group = [\n",
    "            f\"{sample_name}.counts\",\n",
    "            f\"{sample_name}.norm_counts\",\n",
    "            f\"{sample_name}.lognorm\",\n",
    "            f\"{sample_name}.gene\",\n",
    "            f\"{sample_name}.rel\"\n",
    "        ]\n",
    "        # Only include columns that actually exist (in case any are missing)\n",
    "        sample_group = [col for col in sample_group if col in df.columns]\n",
    "        sample_columns.extend(sample_group)\n",
    "\n",
    "    # Add any remaining columns (e.g., .class or metadata)\n",
    "    known_columns = set(first_9_columns + sample_columns)\n",
    "    remaining_columns = [col for col in df.columns if col not in known_columns]\n",
    "\n",
    "    # Final reordered DataFrame\n",
    "    df = df[first_9_columns + sample_columns + remaining_columns]\n",
    "\n",
    "    return df"
   ]
  },
  {
   "cell_type": "code",
   "execution_count": null,
   "id": "0ffba7a0",
   "metadata": {},
   "outputs": [],
   "source": [
    "df = preprocessing(df,size_factors)"
   ]
  },
  {
   "cell_type": "markdown",
   "id": "d89b0d3f",
   "metadata": {},
   "source": [
    "### Function to Obtain Promoter sequences"
   ]
  },
  {
   "cell_type": "code",
   "execution_count": null,
   "id": "731b5882",
   "metadata": {},
   "outputs": [],
   "source": [
    "from pyfaidx import Fasta\n",
    "# Load genome\n",
    "genome = Fasta(\"GCF_003668045.1_CriGri-PICR_genomic.fna\")"
   ]
  },
  {
   "cell_type": "code",
   "execution_count": null,
   "id": "7359ba80",
   "metadata": {},
   "outputs": [],
   "source": [
    "def get_upstream(seqname, tss, strand, upstream=200):\n",
    "\n",
    "    if pd.isna(seqname) or pd.isna(tss) or pd.isna(strand):\n",
    "        return None  # Handle missing values\n",
    "    \n",
    "    tss = int(tss)  # Ensure TSS is an integer\n",
    "    \n",
    "    if strand == \"+\":\n",
    "        start, end = max(0, tss - upstream - 1), tss - 1\n",
    "    else:\n",
    "        start, end = tss, tss + upstream\n",
    "    seq = genome[seqname][start:end].seq\n",
    "    return seq if strand == \"+\" else seq[::-1].translate(str.maketrans(\"ACGTacgt\", \"TGCAtgca\"))"
   ]
  },
  {
   "cell_type": "markdown",
   "id": "cf0d35a0",
   "metadata": {},
   "source": [
    "### Function to obtain condition specific averaged dataframe"
   ]
  },
  {
   "cell_type": "code",
   "execution_count": null,
   "id": "6b501111",
   "metadata": {},
   "outputs": [],
   "source": [
    "def gen_col_name_df(df, metdf , column_name):\n",
    "    \"\"\"\n",
    "    Process log-normalized expression values based on grouping in metdf.\n",
    "    \n",
    "    Parameters:\n",
    "        metdf (pd.DataFrame): Metadata containing sample grouping information.\n",
    "        df (pd.DataFrame): Expression data with .lognorm columns.\n",
    "        column_name (str): The column in metdf used for grouping samples.\n",
    "    \n",
    "    Returns:\n",
    "        pd.DataFrame: Processed DataFrame with averaged lognorm values and relative means.\n",
    "    \"\"\"\n",
    "    # Step 1: Create dictionary mapping each category to its samples\n",
    "    media_dict = metdf.groupby(column_name)[\"Sample_ID\"].apply(list).to_dict()\n",
    "    \n",
    "    # Step 2: Create new DataFrame with metadata columns\n",
    "    metadata_columns = [\n",
    "        \"promoterId\", \"geneId\", \"seqnames\", \"start\", \"strand\", \"internalPromoter\", \"promoterPosition\", \"seqaccession\", \"txId\"\n",
    "    ]\n",
    "    coldf = df[metadata_columns].copy()\n",
    "    \n",
    "    # Step 3: Compute averaged lognorm values for each media type\n",
    "    for media, samples in media_dict.items():\n",
    "        lognorm_columns = [f\"{sample}.lognorm\" for sample in samples if f\"{sample}.lognorm\" in df.columns]\n",
    "        if lognorm_columns:\n",
    "            coldf[f\"{media}.lognorm\"] = df[lognorm_columns].mean(axis=1)\n",
    "    \n",
    "    # Step 4: Process lognorm columns to compute relative means\n",
    "    lognorm_columns = [col for col in coldf.columns if col.endswith('.lognorm')]\n",
    "    epsilon = 1e-6  # Small value to avoid division by zero\n",
    "    coldf[lognorm_columns] = coldf[lognorm_columns].replace({0: epsilon, np.nan: epsilon})\n",
    "    \n",
    "    new_columns = {}\n",
    "    for lognorm_col in lognorm_columns:\n",
    "        sample_name = lognorm_col.split(\".\")[0]\n",
    "        gene_sum = coldf.groupby('geneId')[lognorm_col].transform('sum')\n",
    "        coldf[f\"{sample_name}.gene\"] = gene_sum\n",
    "        \n",
    "        if f\"{sample_name}.gene\" in coldf.columns:\n",
    "            coldf[f\"{sample_name}.rel_mean\"] = coldf[lognorm_col] / coldf[f\"{sample_name}.gene\"]\n",
    "            new_columns[f\"{sample_name}.rel_mean\"] = f\"{sample_name}.gene\"\n",
    "    \n",
    "    # Step 5: Reorder columns for better organization\n",
    "    first_9_columns = coldf.columns[:9]\n",
    "    sample_names = [col.split(\".\")[0] for col in lognorm_columns]\n",
    "    new_order = list(first_9_columns)\n",
    "    for sample_name in sample_names:\n",
    "        new_order.extend([f\"{sample_name}.lognorm\", f\"{sample_name}.gene\", f\"{sample_name}.rel_mean\"])\n",
    "    \n",
    "    return coldf[new_order]"
   ]
  },
  {
   "cell_type": "code",
   "execution_count": null,
   "id": "b921a9d8",
   "metadata": {},
   "outputs": [],
   "source": [
    "celldf = gen_col_name_df(df,metdf,'Cell')"
   ]
  },
  {
   "cell_type": "markdown",
   "id": "a3798467",
   "metadata": {},
   "source": [
    "### Function to classify all promoters (for each promoter)"
   ]
  },
  {
   "cell_type": "code",
   "execution_count": null,
   "id": "6b07004c",
   "metadata": {},
   "outputs": [],
   "source": [
    "def classify_promoters(df):\n",
    "    lognorm_columns = [col for col in df.columns if col.endswith('.lognorm')]\n",
    "    \n",
    "    for col in lognorm_columns:\n",
    "        sample_name = col.split('.')[0]\n",
    "        class_col = f\"{sample_name}.class\"\n",
    "        rel_mean_col = f\"{sample_name}.rel\"\n",
    "        \n",
    "        # Compute max values per geneId\n",
    "        max_values = df.groupby('geneId')[col].transform('max')\n",
    "        \n",
    "        # Step 1: Set everything to \"Minor\" by default\n",
    "        df[class_col] = 'Minor'\n",
    "        \n",
    "        # Step 2: Assign \"Major\" to max values\n",
    "        df.loc[df[col] == max_values, class_col] = 'Major'\n",
    "        \n",
    "        # Step 3: Override with \"Inactive\" where values are < 0.25\n",
    "        df.loc[df[col] < 0.25, class_col] = 'Inactive'\n",
    "        \n",
    "        # Set .rel_mean to NaN where .class is Inactive\n",
    "        if rel_mean_col in df.columns:\n",
    "            df.loc[df[class_col] == 'Inactive', rel_mean_col] = np.nan\n",
    "        \n",
    "        # Insert class column next to rel_mean column\n",
    "        if rel_mean_col in df.columns:\n",
    "            rel_mean_index = df.columns.get_loc(rel_mean_col)\n",
    "            df.insert(rel_mean_index + 1, class_col, df.pop(class_col))\n",
    "    \n",
    "    return df"
   ]
  },
  {
   "cell_type": "code",
   "execution_count": null,
   "id": "fa500721",
   "metadata": {},
   "outputs": [],
   "source": [
    "celldf = classify_promoters(celldf)"
   ]
  },
  {
   "cell_type": "markdown",
   "id": "592b85b3",
   "metadata": {},
   "source": [
    "### Function to assign class based average of all samples"
   ]
  },
  {
   "cell_type": "code",
   "execution_count": null,
   "id": "214b0dcb",
   "metadata": {},
   "outputs": [],
   "source": [
    "def add_overall_class(df, threshold=0.25):\n",
    "    # 1. Identify the .lognorm columns\n",
    "    lognorm_cols = [col for col in df.columns if col.endswith(\".lognorm\")]\n",
    "\n",
    "    # 2. Compute the mean lognorm value per row\n",
    "    df[\"mean_lognorm\"] = df[lognorm_cols].mean(axis=1)\n",
    "\n",
    "    # 3. Assign \"Inactive\" where mean is below threshold\n",
    "    df[\"overall_class\"] = \"Minor\"  # default\n",
    "    df.loc[df[\"mean_lognorm\"] < threshold, \"overall_class\"] = \"Inactive\"\n",
    "\n",
    "    # 4. For each geneId, find the row with the highest mean_lognorm\n",
    "    major_idx = df[df[\"mean_lognorm\"] >= threshold].groupby(\"geneId\")[\"mean_lognorm\"].idxmax()\n",
    "\n",
    "    # 5. Mark those as \"Major\"\n",
    "    df.loc[major_idx, \"overall_class\"] = \"Major\"\n",
    "\n",
    "    return df\n"
   ]
  },
  {
   "cell_type": "markdown",
   "id": "3bd9257b",
   "metadata": {},
   "source": [
    "### Finding alternative promoters (against control celltype)"
   ]
  },
  {
   "cell_type": "code",
   "execution_count": null,
   "id": "ee0601e7",
   "metadata": {},
   "outputs": [],
   "source": [
    "from scipy.stats import ttest_ind\n",
    "from statsmodels.stats.multitest import multipletests\n",
    "\n",
    "def get_samples_by_metadata(metdf, column, value):\n",
    "    return metdf[metdf[column] == value]['Sample_ID'].tolist()"
   ]
  },
  {
   "cell_type": "code",
   "execution_count": null,
   "id": "f8b29cad",
   "metadata": {},
   "outputs": [],
   "source": [
    "def identify_alternative_promters(df_multi, metdf, meta_column, control_type, test_type):\n",
    "    # Sample extraction\n",
    "    control_samples = get_samples_by_metadata(metdf, meta_column, control_type)\n",
    "    test_samples = get_samples_by_metadata(metdf, meta_column, test_type)\n",
    "\n",
    "    # Column matching\n",
    "    lognorm_control = [f\"{s}.lognorm\" for s in control_samples if f\"{s}.lognorm\" in df_multi.columns]\n",
    "    lognorm_test = [f\"{s}.lognorm\" for s in test_samples if f\"{s}.lognorm\" in df_multi.columns]\n",
    "    gene_control = [f\"{s}.gene\" for s in control_samples if f\"{s}.gene\" in df_multi.columns]\n",
    "    gene_test = [f\"{s}.gene\" for s in test_samples if f\"{s}.gene\" in df_multi.columns]\n",
    "\n",
    "    # Matrix extraction\n",
    "    lognorm_control_data = df_multi[lognorm_control].values\n",
    "    lognorm_test_data = df_multi[lognorm_test].values\n",
    "\n",
    "    # Promoter fold change\n",
    "    promoterFC = (lognorm_test_data.mean(axis=1) + 1e-6) / (lognorm_control_data.mean(axis=1) + 1e-6)\n",
    "\n",
    "    # T-test with variance check\n",
    "    pvals = np.full(df_multi.shape[0], np.nan)\n",
    "    for i in range(df_multi.shape[0]):\n",
    "        ctrl_vals = lognorm_control_data[i, :]\n",
    "        test_vals = lognorm_test_data[i, :]\n",
    "        if np.std(ctrl_vals) == 0 or np.std(test_vals) == 0:\n",
    "            continue\n",
    "        _, p = ttest_ind(test_vals, ctrl_vals, equal_var=False)\n",
    "        pvals[i] = p\n",
    "\n",
    "    # Multiple testing correction\n",
    "    valid = ~np.isnan(pvals)\n",
    "    adj_pvals = np.full_like(pvals, np.nan)\n",
    "    adj_pvals[valid] = multipletests(pvals[valid], method='fdr_bh')[1]\n",
    "\n",
    "    # Gene-level fold change\n",
    "    gene_control_data = df_multi[gene_control].values\n",
    "    gene_test_data = df_multi[gene_test].values\n",
    "    geneFC = (gene_test_data.mean(axis=1) + 1e-6) / (gene_control_data.mean(axis=1) + 1e-6)\n",
    "\n",
    "    # Build results DataFrame\n",
    "    results = df_multi.copy()\n",
    "    results['promoterFC'] = promoterFC\n",
    "    results['geneFC'] = geneFC\n",
    "    results['adj_pval'] = adj_pvals\n",
    "    results['is_hit'] = (results['promoterFC'] > 1.8) & \\\n",
    "                        (results['geneFC'] < 1.3) & \\\n",
    "                        (results['adj_pval'] < 0.05)\n",
    "    results['comparison'] = f\"{test_type}_vs_{control_type}\"\n",
    "\n",
    "    return results\n"
   ]
  },
  {
   "cell_type": "code",
   "execution_count": null,
   "id": "2b475b47",
   "metadata": {},
   "outputs": [
    {
     "name": "stdout",
     "output_type": "stream",
     "text": [
      "Comparing K1 (GS) to K1...\n",
      "Comparing DG44 to K1...\n",
      "Comparing S to K1...\n",
      "Comparing DXB11 to K1...\n"
     ]
    }
   ],
   "source": [
    "control = 'K1'\n",
    "celltypes = metdf['Cell'].unique()\n",
    "all_results = []\n",
    "\n",
    "for test in celltypes:\n",
    "    if test == control:\n",
    "        continue\n",
    "    print(f\"Comparing {test} to {control}...\")\n",
    "    result = identify_alternative_promters(df_multi, metdf, meta_column='Cell', control_type=control, test_type=test)\n",
    "    result['celltype'] = test\n",
    "    all_results.append(result)\n",
    "\n",
    "# Combine all\n",
    "combined_results = pd.concat(all_results, ignore_index=True)"
   ]
  },
  {
   "cell_type": "markdown",
   "id": "d9c91488",
   "metadata": {},
   "source": [
    "### Function to create promoter heatmap"
   ]
  },
  {
   "cell_type": "code",
   "execution_count": null,
   "id": "e4ee9960",
   "metadata": {},
   "outputs": [],
   "source": [
    "def make_promoter_heatmap(df_multi, metdf, sig_results_dedup,  column, column_type):\n",
    "    # Step 1: Get promoter list in order\n",
    "    promoter_list = sig_results_dedup['promoterId'].tolist()\n",
    "    \n",
    "    # Step 2: Extract all .lognorm columns\n",
    "    lognorm_cols = [col for col in df_multi.columns if col.endswith(f'.{column_type}')]\n",
    "\n",
    "    # Step 3: Map sample to cell type\n",
    "    sample_to_cell = dict(zip(metdf['Sample_ID'], metdf[column]))\n",
    "\n",
    "    # Step 4: Group samples by cell type (preserving order)\n",
    "    celltype_order = metdf[column].drop_duplicates().tolist()\n",
    "    celltype_to_samples = {\n",
    "        cell: [f\"{s}.{column_type}\" for s in metdf[metdf[column] == cell]['Sample_ID'] if f\"{s}.{column_type}\" in lognorm_cols]\n",
    "        for cell in celltype_order\n",
    "    }\n",
    "\n",
    "    # Step 5: Compute mean expression per promoter per cell type\n",
    "    heatmap_data = []\n",
    "    for promoter in promoter_list:\n",
    "        row = []\n",
    "        for cell in celltype_order:\n",
    "            sample_cols = celltype_to_samples[cell]\n",
    "            val = df_multi.loc[df_multi['promoterId'] == promoter, sample_cols].mean(axis=1).values\n",
    "            row.append(val[0] if len(val) > 0 else np.nan)\n",
    "        heatmap_data.append(row)\n",
    "\n",
    "    heatmap_df = pd.DataFrame(heatmap_data, index=promoter_list, columns=celltype_order)\n",
    "\n",
    "    # Step 6: Plot heatmap\n",
    "    plt.figure(figsize=(6, 8))\n",
    "    sns.heatmap(heatmap_df, cmap=\"Reds\", cbar_kws={\"label\": \"Mean Promoter Activity\"})\n",
    "    plt.xlabel(\"Cell Lineage\")\n",
    "    plt.ylabel(\"Cell line-Specific Promoters\")\n",
    "    plt.title(\"Cell Line Specific Promoter Activity\")\n",
    "    plt.tight_layout()\n",
    "    plt.yticks([], [])\n",
    "    plt.show()\n",
    "\n",
    "# Usage\n",
    "\n"
   ]
  },
  {
   "cell_type": "code",
   "execution_count": null,
   "id": "a5372ab5",
   "metadata": {},
   "outputs": [
    {
     "data": {
      "image/png": "[encoded data removed]",
      "text/plain": [
       "<Figure size 600x800 with 2 Axes>"
      ]
     },
     "metadata": {},
     "output_type": "display_data"
    }
   ],
   "source": [
    "make_promoter_heatmap(df_multi, metdf, sig_results_dedup, \"Cell\")"
   ]
  },
  {
   "cell_type": "markdown",
   "id": "60e1a554",
   "metadata": {},
   "source": [
    "### Finding alternative promoters (taking a specific cell type against all other samples)"
   ]
  },
  {
   "cell_type": "code",
   "execution_count": null,
   "id": "39f54e30",
   "metadata": {},
   "outputs": [],
   "source": [
    "def identify_alternative_promters_specific(df_multi, metdf, meta_column, test_type):\n",
    "    # Sample extraction\n",
    "    test_samples = get_samples_by_metadata(metdf, meta_column, test_type)\n",
    "    control_samples = [s for s in metdf['Sample_ID'].tolist() if s not in test_samples]\n",
    "\n",
    "    # Column matching\n",
    "    lognorm_control = [f\"{s}.lognorm\" for s in control_samples if f\"{s}.lognorm\" in df_multi.columns]\n",
    "    lognorm_test = [f\"{s}.lognorm\" for s in test_samples if f\"{s}.lognorm\" in df_multi.columns]\n",
    "    gene_control = [f\"{s}.gene\" for s in control_samples if f\"{s}.gene\" in df_multi.columns]\n",
    "    gene_test = [f\"{s}.gene\" for s in test_samples if f\"{s}.gene\" in df_multi.columns]\n",
    "\n",
    "    # Matrix extraction\n",
    "    lognorm_control_data = df_multi[lognorm_control].values\n",
    "    lognorm_test_data = df_multi[lognorm_test].values\n",
    "\n",
    "    # Promoter fold change\n",
    "    promoterFC = (lognorm_test_data.mean(axis=1) + 1e-6) / (lognorm_control_data.mean(axis=1) + 1e-6)\n",
    "\n",
    "    # T-test with variance check\n",
    "    pvals = np.full(df_multi.shape[0], np.nan)\n",
    "    for i in range(df_multi.shape[0]):\n",
    "        ctrl_vals = lognorm_control_data[i, :]\n",
    "        test_vals = lognorm_test_data[i, :]\n",
    "        if np.std(ctrl_vals) == 0 or np.std(test_vals) == 0:\n",
    "            continue\n",
    "        _, p = ttest_ind(test_vals, ctrl_vals, equal_var=False)\n",
    "        pvals[i] = p\n",
    "\n",
    "    # Multiple testing correction\n",
    "    valid = ~np.isnan(pvals)\n",
    "    adj_pvals = np.full_like(pvals, np.nan)\n",
    "    adj_pvals[valid] = multipletests(pvals[valid], method='fdr_bh')[1]\n",
    "\n",
    "    # Gene-level fold change\n",
    "    gene_control_data = df_multi[gene_control].values\n",
    "    gene_test_data = df_multi[gene_test].values\n",
    "    geneFC = (gene_test_data.mean(axis=1) + 1e-6) / (gene_control_data.mean(axis=1) + 1e-6)\n",
    "\n",
    "    # Build results DataFrame\n",
    "    results = df_multi.copy()\n",
    "    results['promoterFC'] = promoterFC\n",
    "    results['geneFC'] = geneFC\n",
    "    results['adj_pval'] = adj_pvals\n",
    "    results['is_hit'] = (results['promoterFC'] > 2) & \\\n",
    "                        (results['geneFC'] < 1.4) & \\\n",
    "                        (results['adj_pval'] < 0.05)\n",
    "    results['comparison'] = f\"{test_type}\"\n",
    "\n",
    "    return results\n"
   ]
  },
  {
   "cell_type": "code",
   "execution_count": null,
   "id": "dae6eab5",
   "metadata": {},
   "outputs": [
    {
     "name": "stdout",
     "output_type": "stream",
     "text": [
      "Comparing K1\n",
      "Comparing K1 (GS)\n",
      "Comparing DG44\n",
      "Comparing S\n",
      "Comparing DXB11\n"
     ]
    }
   ],
   "source": [
    "celltypes = metdf['Cell'].unique()\n",
    "all_results_specific = []\n",
    "\n",
    "for test in celltypes:\n",
    "    print(f\"Comparing {test}\")\n",
    "    result_specific = identify_alternative_promters_specific(df_multi, metdf, meta_column='Cell', test_type=test)\n",
    "    result_specific['celltype'] = test\n",
    "    all_results_specific.append(result_specific)\n",
    "\n",
    "# Combine all\n",
    "combined_results_specific = pd.concat(all_results_specific, ignore_index=True)"
   ]
  },
  {
   "cell_type": "markdown",
   "id": "9a103b2d",
   "metadata": {},
   "source": [
    "### Function to parse GTF annotation files"
   ]
  },
  {
   "cell_type": "code",
   "execution_count": null,
   "id": "15a1b509",
   "metadata": {},
   "outputs": [],
   "source": [
    "# Define GTF column names\n",
    "gtf_columns = [\"seqnames\", \"source\", \"feature\", \"start\", \"end\", \"score\", \"strand\", \"frame\", \"attribute\"]\n",
    "\n",
    "# Load GTF file into a DataFrame\n",
    "gtf_df = pd.read_csv(\"GCF_003668045.1_CriGri-PICR_genomic.gtf\", sep=\"\\t\", comment=\"#\", header=None, names=gtf_columns)"
   ]
  },
  {
   "cell_type": "code",
   "execution_count": null,
   "id": "091131ae",
   "metadata": {},
   "outputs": [],
   "source": [
    "import re\n",
    "\n",
    "def parse_attributes(attribute_string):\n",
    "    attributes = {}\n",
    "    for attr in attribute_string.strip().split(\";\"):\n",
    "        attr = attr.strip()\n",
    "        if attr:\n",
    "            parts = attr.split(\" \", 1)  # Split only on the first space\n",
    "            if len(parts) == 2:\n",
    "                key, value = parts\n",
    "                attributes[key] = value.strip('\"')  # Remove surrounding quotes\n",
    "    return attributes\n",
    "\n",
    "# Apply function to extract gene_id and transcript_id\n",
    "gtf_df[\"attributes_dict\"] = gtf_df[\"attribute\"].apply(parse_attributes)\n",
    "\n",
    "gtf_df[\"gene_id\"] = gtf_df[\"attributes_dict\"].apply(lambda x: x.get(\"gene_id\", None))\n",
    "gtf_df[\"transcript_id\"] = gtf_df[\"attributes_dict\"].apply(lambda x: x.get(\"transcript_id\", None))\n",
    "\n",
    "# Drop the temporary dictionary column\n",
    "gtf_df.drop(columns=[\"attributes_dict\"], inplace=True)\n",
    "\n",
    "# To remove duplicate rows while ignoring the attribute column\n",
    "# gtf_df = gtf_df.loc[~gtf_df.drop(columns=[\"attribute\"]).duplicated(keep=\"first\")]"
   ]
  }
 ],
 "metadata": {
  "language_info": {
   "name": "python"
  }
 },
 "nbformat": 4,
 "nbformat_minor": 5
}
